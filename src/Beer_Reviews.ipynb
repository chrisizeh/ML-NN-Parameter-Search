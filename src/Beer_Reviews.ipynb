{
 "cells": [
  {
   "cell_type": "markdown",
   "id": "08eed9e0-4130-4a9d-bfa1-3c0b489fb8a8",
   "metadata": {},
   "source": [
    "# Preprocessing + NN Playing for Beer Reviews"
   ]
  },
  {
   "cell_type": "code",
   "execution_count": null,
   "id": "168151d4-3d0d-4ffd-a0bd-95d65371ada6",
   "metadata": {},
   "outputs": [],
   "source": []
  }
 ],
 "metadata": {
  "kernelspec": {
   "display_name": "Python 3 (ipykernel)",
   "language": "python",
   "name": "python3"
  },
  "language_info": {
   "codemirror_mode": {
    "name": "ipython",
    "version": 3
   },
   "file_extension": ".py",
   "mimetype": "text/x-python",
   "name": "python",
   "nbconvert_exporter": "python",
   "pygments_lexer": "ipython3",
   "version": "3.11.6"
  }
 },
 "nbformat": 4,
 "nbformat_minor": 5
}
