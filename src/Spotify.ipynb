{
 "cells": [
  {
   "cell_type": "markdown",
   "metadata": {},
   "source": [
    "Dependencies"
   ]
  },
  {
   "cell_type": "code",
   "execution_count": 3,
   "metadata": {},
   "outputs": [],
   "source": [
    "import os\n",
    "import pandas as pd\n",
    "import numpy as np\n",
    "import seaborn as sns\n",
    "import matplotlib.pyplot as plt\n",
    "import sklearn"
   ]
  },
  {
   "cell_type": "markdown",
   "metadata": {},
   "source": [
    "Preprocessing"
   ]
  },
  {
   "cell_type": "code",
   "execution_count": 4,
   "metadata": {},
   "outputs": [
    {
     "data": {
      "text/html": [
       "<div>\n",
       "<style scoped>\n",
       "    .dataframe tbody tr th:only-of-type {\n",
       "        vertical-align: middle;\n",
       "    }\n",
       "\n",
       "    .dataframe tbody tr th {\n",
       "        vertical-align: top;\n",
       "    }\n",
       "\n",
       "    .dataframe thead th {\n",
       "        text-align: right;\n",
       "    }\n",
       "</style>\n",
       "<table border=\"1\" class=\"dataframe\">\n",
       "  <thead>\n",
       "    <tr style=\"text-align: right;\">\n",
       "      <th></th>\n",
       "      <th>track_id</th>\n",
       "      <th>track_name</th>\n",
       "      <th>track_artist</th>\n",
       "      <th>track_popularity</th>\n",
       "      <th>track_album_id</th>\n",
       "      <th>track_album_name</th>\n",
       "      <th>track_album_release_date</th>\n",
       "      <th>playlist_name</th>\n",
       "      <th>playlist_id</th>\n",
       "      <th>playlist_genre</th>\n",
       "      <th>...</th>\n",
       "      <th>key</th>\n",
       "      <th>loudness</th>\n",
       "      <th>mode</th>\n",
       "      <th>speechiness</th>\n",
       "      <th>acousticness</th>\n",
       "      <th>instrumentalness</th>\n",
       "      <th>liveness</th>\n",
       "      <th>valence</th>\n",
       "      <th>tempo</th>\n",
       "      <th>duration_ms</th>\n",
       "    </tr>\n",
       "  </thead>\n",
       "  <tbody>\n",
       "    <tr>\n",
       "      <th>0</th>\n",
       "      <td>6f807x0ima9a1j3VPbc7VN</td>\n",
       "      <td>I Don't Care (with Justin Bieber) - Loud Luxur...</td>\n",
       "      <td>Ed Sheeran</td>\n",
       "      <td>66</td>\n",
       "      <td>2oCs0DGTsRO98Gh5ZSl2Cx</td>\n",
       "      <td>I Don't Care (with Justin Bieber) [Loud Luxury...</td>\n",
       "      <td>2019-06-14</td>\n",
       "      <td>Pop Remix</td>\n",
       "      <td>37i9dQZF1DXcZDD7cfEKhW</td>\n",
       "      <td>pop</td>\n",
       "      <td>...</td>\n",
       "      <td>6</td>\n",
       "      <td>-2.634</td>\n",
       "      <td>1</td>\n",
       "      <td>0.0583</td>\n",
       "      <td>0.1020</td>\n",
       "      <td>0.000000</td>\n",
       "      <td>0.0653</td>\n",
       "      <td>0.518</td>\n",
       "      <td>122.036</td>\n",
       "      <td>194754</td>\n",
       "    </tr>\n",
       "    <tr>\n",
       "      <th>1</th>\n",
       "      <td>0r7CVbZTWZgbTCYdfa2P31</td>\n",
       "      <td>Memories - Dillon Francis Remix</td>\n",
       "      <td>Maroon 5</td>\n",
       "      <td>67</td>\n",
       "      <td>63rPSO264uRjW1X5E6cWv6</td>\n",
       "      <td>Memories (Dillon Francis Remix)</td>\n",
       "      <td>2019-12-13</td>\n",
       "      <td>Pop Remix</td>\n",
       "      <td>37i9dQZF1DXcZDD7cfEKhW</td>\n",
       "      <td>pop</td>\n",
       "      <td>...</td>\n",
       "      <td>11</td>\n",
       "      <td>-4.969</td>\n",
       "      <td>1</td>\n",
       "      <td>0.0373</td>\n",
       "      <td>0.0724</td>\n",
       "      <td>0.004210</td>\n",
       "      <td>0.3570</td>\n",
       "      <td>0.693</td>\n",
       "      <td>99.972</td>\n",
       "      <td>162600</td>\n",
       "    </tr>\n",
       "    <tr>\n",
       "      <th>2</th>\n",
       "      <td>1z1Hg7Vb0AhHDiEmnDE79l</td>\n",
       "      <td>All the Time - Don Diablo Remix</td>\n",
       "      <td>Zara Larsson</td>\n",
       "      <td>70</td>\n",
       "      <td>1HoSmj2eLcsrR0vE9gThr4</td>\n",
       "      <td>All the Time (Don Diablo Remix)</td>\n",
       "      <td>2019-07-05</td>\n",
       "      <td>Pop Remix</td>\n",
       "      <td>37i9dQZF1DXcZDD7cfEKhW</td>\n",
       "      <td>pop</td>\n",
       "      <td>...</td>\n",
       "      <td>1</td>\n",
       "      <td>-3.432</td>\n",
       "      <td>0</td>\n",
       "      <td>0.0742</td>\n",
       "      <td>0.0794</td>\n",
       "      <td>0.000023</td>\n",
       "      <td>0.1100</td>\n",
       "      <td>0.613</td>\n",
       "      <td>124.008</td>\n",
       "      <td>176616</td>\n",
       "    </tr>\n",
       "    <tr>\n",
       "      <th>3</th>\n",
       "      <td>75FpbthrwQmzHlBJLuGdC7</td>\n",
       "      <td>Call You Mine - Keanu Silva Remix</td>\n",
       "      <td>The Chainsmokers</td>\n",
       "      <td>60</td>\n",
       "      <td>1nqYsOef1yKKuGOVchbsk6</td>\n",
       "      <td>Call You Mine - The Remixes</td>\n",
       "      <td>2019-07-19</td>\n",
       "      <td>Pop Remix</td>\n",
       "      <td>37i9dQZF1DXcZDD7cfEKhW</td>\n",
       "      <td>pop</td>\n",
       "      <td>...</td>\n",
       "      <td>7</td>\n",
       "      <td>-3.778</td>\n",
       "      <td>1</td>\n",
       "      <td>0.1020</td>\n",
       "      <td>0.0287</td>\n",
       "      <td>0.000009</td>\n",
       "      <td>0.2040</td>\n",
       "      <td>0.277</td>\n",
       "      <td>121.956</td>\n",
       "      <td>169093</td>\n",
       "    </tr>\n",
       "    <tr>\n",
       "      <th>4</th>\n",
       "      <td>1e8PAfcKUYoKkxPhrHqw4x</td>\n",
       "      <td>Someone You Loved - Future Humans Remix</td>\n",
       "      <td>Lewis Capaldi</td>\n",
       "      <td>69</td>\n",
       "      <td>7m7vv9wlQ4i0LFuJiE2zsQ</td>\n",
       "      <td>Someone You Loved (Future Humans Remix)</td>\n",
       "      <td>2019-03-05</td>\n",
       "      <td>Pop Remix</td>\n",
       "      <td>37i9dQZF1DXcZDD7cfEKhW</td>\n",
       "      <td>pop</td>\n",
       "      <td>...</td>\n",
       "      <td>1</td>\n",
       "      <td>-4.672</td>\n",
       "      <td>1</td>\n",
       "      <td>0.0359</td>\n",
       "      <td>0.0803</td>\n",
       "      <td>0.000000</td>\n",
       "      <td>0.0833</td>\n",
       "      <td>0.725</td>\n",
       "      <td>123.976</td>\n",
       "      <td>189052</td>\n",
       "    </tr>\n",
       "  </tbody>\n",
       "</table>\n",
       "<p>5 rows × 23 columns</p>\n",
       "</div>"
      ],
      "text/plain": [
       "                 track_id                                         track_name  \\\n",
       "0  6f807x0ima9a1j3VPbc7VN  I Don't Care (with Justin Bieber) - Loud Luxur...   \n",
       "1  0r7CVbZTWZgbTCYdfa2P31                    Memories - Dillon Francis Remix   \n",
       "2  1z1Hg7Vb0AhHDiEmnDE79l                    All the Time - Don Diablo Remix   \n",
       "3  75FpbthrwQmzHlBJLuGdC7                  Call You Mine - Keanu Silva Remix   \n",
       "4  1e8PAfcKUYoKkxPhrHqw4x            Someone You Loved - Future Humans Remix   \n",
       "\n",
       "       track_artist  track_popularity          track_album_id  \\\n",
       "0        Ed Sheeran                66  2oCs0DGTsRO98Gh5ZSl2Cx   \n",
       "1          Maroon 5                67  63rPSO264uRjW1X5E6cWv6   \n",
       "2      Zara Larsson                70  1HoSmj2eLcsrR0vE9gThr4   \n",
       "3  The Chainsmokers                60  1nqYsOef1yKKuGOVchbsk6   \n",
       "4     Lewis Capaldi                69  7m7vv9wlQ4i0LFuJiE2zsQ   \n",
       "\n",
       "                                    track_album_name track_album_release_date  \\\n",
       "0  I Don't Care (with Justin Bieber) [Loud Luxury...               2019-06-14   \n",
       "1                    Memories (Dillon Francis Remix)               2019-12-13   \n",
       "2                    All the Time (Don Diablo Remix)               2019-07-05   \n",
       "3                        Call You Mine - The Remixes               2019-07-19   \n",
       "4            Someone You Loved (Future Humans Remix)               2019-03-05   \n",
       "\n",
       "  playlist_name             playlist_id playlist_genre  ... key  loudness  \\\n",
       "0     Pop Remix  37i9dQZF1DXcZDD7cfEKhW            pop  ...   6    -2.634   \n",
       "1     Pop Remix  37i9dQZF1DXcZDD7cfEKhW            pop  ...  11    -4.969   \n",
       "2     Pop Remix  37i9dQZF1DXcZDD7cfEKhW            pop  ...   1    -3.432   \n",
       "3     Pop Remix  37i9dQZF1DXcZDD7cfEKhW            pop  ...   7    -3.778   \n",
       "4     Pop Remix  37i9dQZF1DXcZDD7cfEKhW            pop  ...   1    -4.672   \n",
       "\n",
       "   mode  speechiness  acousticness  instrumentalness  liveness  valence  \\\n",
       "0     1       0.0583        0.1020          0.000000    0.0653    0.518   \n",
       "1     1       0.0373        0.0724          0.004210    0.3570    0.693   \n",
       "2     0       0.0742        0.0794          0.000023    0.1100    0.613   \n",
       "3     1       0.1020        0.0287          0.000009    0.2040    0.277   \n",
       "4     1       0.0359        0.0803          0.000000    0.0833    0.725   \n",
       "\n",
       "     tempo  duration_ms  \n",
       "0  122.036       194754  \n",
       "1   99.972       162600  \n",
       "2  124.008       176616  \n",
       "3  121.956       169093  \n",
       "4  123.976       189052  \n",
       "\n",
       "[5 rows x 23 columns]"
      ]
     },
     "execution_count": 4,
     "metadata": {},
     "output_type": "execute_result"
    }
   ],
   "source": [
    "import pathlib\n",
    "\n",
    "dirname = os.path.dirname(pathlib.Path().resolve())\n",
    "# filename = \"data\\spotify_songs.csv\"\n",
    "filename = \"data/spotify_songs.csv\"\n",
    "data = pd.read_csv(os.path.join(dirname, filename))\n",
    "\n",
    "data.head()\n"
   ]
  },
  {
   "cell_type": "code",
   "execution_count": 5,
   "metadata": {},
   "outputs": [
    {
     "name": "stdout",
     "output_type": "stream",
     "text": [
      "<class 'pandas.core.frame.DataFrame'>\n",
      "RangeIndex: 32833 entries, 0 to 32832\n",
      "Data columns (total 23 columns):\n",
      " #   Column                    Non-Null Count  Dtype  \n",
      "---  ------                    --------------  -----  \n",
      " 0   track_id                  32833 non-null  object \n",
      " 1   track_name                32828 non-null  object \n",
      " 2   track_artist              32828 non-null  object \n",
      " 3   track_popularity          32833 non-null  int64  \n",
      " 4   track_album_id            32833 non-null  object \n",
      " 5   track_album_name          32828 non-null  object \n",
      " 6   track_album_release_date  32833 non-null  object \n",
      " 7   playlist_name             32833 non-null  object \n",
      " 8   playlist_id               32833 non-null  object \n",
      " 9   playlist_genre            32833 non-null  object \n",
      " 10  playlist_subgenre         32833 non-null  object \n",
      " 11  danceability              32833 non-null  float64\n",
      " 12  energy                    32833 non-null  float64\n",
      " 13  key                       32833 non-null  int64  \n",
      " 14  loudness                  32833 non-null  float64\n",
      " 15  mode                      32833 non-null  int64  \n",
      " 16  speechiness               32833 non-null  float64\n",
      " 17  acousticness              32833 non-null  float64\n",
      " 18  instrumentalness          32833 non-null  float64\n",
      " 19  liveness                  32833 non-null  float64\n",
      " 20  valence                   32833 non-null  float64\n",
      " 21  tempo                     32833 non-null  float64\n",
      " 22  duration_ms               32833 non-null  int64  \n",
      "dtypes: float64(9), int64(4), object(10)\n",
      "memory usage: 5.8+ MB\n"
     ]
    }
   ],
   "source": [
    "data.info()"
   ]
  },
  {
   "cell_type": "code",
   "execution_count": 6,
   "metadata": {},
   "outputs": [
    {
     "data": {
      "text/plain": [
       "track_id                    28356\n",
       "track_name                  23449\n",
       "track_artist                10692\n",
       "track_popularity              101\n",
       "track_album_id              22545\n",
       "track_album_name            19743\n",
       "track_album_release_date     4530\n",
       "playlist_name                 449\n",
       "playlist_id                   471\n",
       "playlist_genre                  6\n",
       "playlist_subgenre              24\n",
       "danceability                  822\n",
       "energy                        952\n",
       "key                            12\n",
       "loudness                    10222\n",
       "mode                            2\n",
       "speechiness                  1270\n",
       "acousticness                 3731\n",
       "instrumentalness             4729\n",
       "liveness                     1624\n",
       "valence                      1362\n",
       "tempo                       17684\n",
       "duration_ms                 19785\n",
       "dtype: int64"
      ]
     },
     "execution_count": 6,
     "metadata": {},
     "output_type": "execute_result"
    }
   ],
   "source": [
    "data.nunique()"
   ]
  },
  {
   "cell_type": "code",
   "execution_count": 7,
   "metadata": {},
   "outputs": [],
   "source": [
    "# TODO: bag of words for playlist name"
   ]
  },
  {
   "cell_type": "code",
   "execution_count": 8,
   "metadata": {},
   "outputs": [],
   "source": [
    "data = data.drop(columns='track_name', axis = 1)\n",
    "data = data.drop('track_album_name', axis = 1)\n",
    "data = data.drop('playlist_name', axis = 1)"
   ]
  },
  {
   "cell_type": "code",
   "execution_count": 9,
   "metadata": {},
   "outputs": [],
   "source": [
    "from sklearn.preprocessing import LabelEncoder\n",
    "from datetime import datetime\n",
    "\n",
    "encoder = LabelEncoder()\n",
    "data['playlist_genre'] = encoder.fit_transform(data['playlist_genre'])\n",
    "data['playlist_subgenre'] = encoder.fit_transform(data['playlist_subgenre'])\n",
    "data['track_artist'] = encoder.fit_transform(data['track_artist'])\n",
    "data['track_id'] = encoder.fit_transform(data['track_id'])\n",
    "data['track_album_id'] = encoder.fit_transform(data['track_album_id'])\n",
    "data['playlist_id'] = encoder.fit_transform(data['playlist_id'])\n",
    "\n",
    "\n",
    "today = datetime.fromisoformat('2023-12-31')\n",
    "data['track_album_release_date'] = pd.to_datetime(data['track_album_release_date'], format='mixed')\n",
    "data['age'] = (today - data['track_album_release_date']).apply(lambda x: x.days)\n",
    "data = data.drop(columns='track_album_release_date', axis=1)\n"
   ]
  },
  {
   "cell_type": "code",
   "execution_count": 10,
   "metadata": {},
   "outputs": [
    {
     "data": {
      "text/html": [
       "<div>\n",
       "<style scoped>\n",
       "    .dataframe tbody tr th:only-of-type {\n",
       "        vertical-align: middle;\n",
       "    }\n",
       "\n",
       "    .dataframe tbody tr th {\n",
       "        vertical-align: top;\n",
       "    }\n",
       "\n",
       "    .dataframe thead th {\n",
       "        text-align: right;\n",
       "    }\n",
       "</style>\n",
       "<table border=\"1\" class=\"dataframe\">\n",
       "  <thead>\n",
       "    <tr style=\"text-align: right;\">\n",
       "      <th></th>\n",
       "      <th>track_id</th>\n",
       "      <th>track_artist</th>\n",
       "      <th>track_popularity</th>\n",
       "      <th>track_album_id</th>\n",
       "      <th>playlist_id</th>\n",
       "      <th>playlist_genre</th>\n",
       "      <th>playlist_subgenre</th>\n",
       "      <th>danceability</th>\n",
       "      <th>energy</th>\n",
       "      <th>key</th>\n",
       "      <th>loudness</th>\n",
       "      <th>mode</th>\n",
       "      <th>speechiness</th>\n",
       "      <th>acousticness</th>\n",
       "      <th>instrumentalness</th>\n",
       "      <th>liveness</th>\n",
       "      <th>valence</th>\n",
       "      <th>tempo</th>\n",
       "      <th>duration_ms</th>\n",
       "      <th>age</th>\n",
       "    </tr>\n",
       "  </thead>\n",
       "  <tbody>\n",
       "    <tr>\n",
       "      <th>0</th>\n",
       "      <td>24150</td>\n",
       "      <td>2782</td>\n",
       "      <td>66</td>\n",
       "      <td>8225</td>\n",
       "      <td>235</td>\n",
       "      <td>2</td>\n",
       "      <td>3</td>\n",
       "      <td>0.748</td>\n",
       "      <td>0.916</td>\n",
       "      <td>6</td>\n",
       "      <td>-2.634</td>\n",
       "      <td>1</td>\n",
       "      <td>0.0583</td>\n",
       "      <td>0.1020</td>\n",
       "      <td>0.000000</td>\n",
       "      <td>0.0653</td>\n",
       "      <td>0.518</td>\n",
       "      <td>122.036</td>\n",
       "      <td>194754</td>\n",
       "      <td>1661</td>\n",
       "    </tr>\n",
       "    <tr>\n",
       "      <th>1</th>\n",
       "      <td>3061</td>\n",
       "      <td>6084</td>\n",
       "      <td>67</td>\n",
       "      <td>17650</td>\n",
       "      <td>235</td>\n",
       "      <td>2</td>\n",
       "      <td>3</td>\n",
       "      <td>0.726</td>\n",
       "      <td>0.815</td>\n",
       "      <td>11</td>\n",
       "      <td>-4.969</td>\n",
       "      <td>1</td>\n",
       "      <td>0.0373</td>\n",
       "      <td>0.0724</td>\n",
       "      <td>0.004210</td>\n",
       "      <td>0.3570</td>\n",
       "      <td>0.693</td>\n",
       "      <td>99.972</td>\n",
       "      <td>162600</td>\n",
       "      <td>1479</td>\n",
       "    </tr>\n",
       "    <tr>\n",
       "      <th>2</th>\n",
       "      <td>7219</td>\n",
       "      <td>10416</td>\n",
       "      <td>70</td>\n",
       "      <td>3798</td>\n",
       "      <td>235</td>\n",
       "      <td>2</td>\n",
       "      <td>3</td>\n",
       "      <td>0.675</td>\n",
       "      <td>0.931</td>\n",
       "      <td>1</td>\n",
       "      <td>-3.432</td>\n",
       "      <td>0</td>\n",
       "      <td>0.0742</td>\n",
       "      <td>0.0794</td>\n",
       "      <td>0.000023</td>\n",
       "      <td>0.1100</td>\n",
       "      <td>0.613</td>\n",
       "      <td>124.008</td>\n",
       "      <td>176616</td>\n",
       "      <td>1640</td>\n",
       "    </tr>\n",
       "    <tr>\n",
       "      <th>3</th>\n",
       "      <td>25699</td>\n",
       "      <td>9215</td>\n",
       "      <td>60</td>\n",
       "      <td>5293</td>\n",
       "      <td>235</td>\n",
       "      <td>2</td>\n",
       "      <td>3</td>\n",
       "      <td>0.718</td>\n",
       "      <td>0.930</td>\n",
       "      <td>7</td>\n",
       "      <td>-3.778</td>\n",
       "      <td>1</td>\n",
       "      <td>0.1020</td>\n",
       "      <td>0.0287</td>\n",
       "      <td>0.000009</td>\n",
       "      <td>0.2040</td>\n",
       "      <td>0.277</td>\n",
       "      <td>121.956</td>\n",
       "      <td>169093</td>\n",
       "      <td>1626</td>\n",
       "    </tr>\n",
       "    <tr>\n",
       "      <th>4</th>\n",
       "      <td>5987</td>\n",
       "      <td>5402</td>\n",
       "      <td>69</td>\n",
       "      <td>21936</td>\n",
       "      <td>235</td>\n",
       "      <td>2</td>\n",
       "      <td>3</td>\n",
       "      <td>0.650</td>\n",
       "      <td>0.833</td>\n",
       "      <td>1</td>\n",
       "      <td>-4.672</td>\n",
       "      <td>1</td>\n",
       "      <td>0.0359</td>\n",
       "      <td>0.0803</td>\n",
       "      <td>0.000000</td>\n",
       "      <td>0.0833</td>\n",
       "      <td>0.725</td>\n",
       "      <td>123.976</td>\n",
       "      <td>189052</td>\n",
       "      <td>1762</td>\n",
       "    </tr>\n",
       "  </tbody>\n",
       "</table>\n",
       "</div>"
      ],
      "text/plain": [
       "   track_id  track_artist  track_popularity  track_album_id  playlist_id  \\\n",
       "0     24150          2782                66            8225          235   \n",
       "1      3061          6084                67           17650          235   \n",
       "2      7219         10416                70            3798          235   \n",
       "3     25699          9215                60            5293          235   \n",
       "4      5987          5402                69           21936          235   \n",
       "\n",
       "   playlist_genre  playlist_subgenre  danceability  energy  key  loudness  \\\n",
       "0               2                  3         0.748   0.916    6    -2.634   \n",
       "1               2                  3         0.726   0.815   11    -4.969   \n",
       "2               2                  3         0.675   0.931    1    -3.432   \n",
       "3               2                  3         0.718   0.930    7    -3.778   \n",
       "4               2                  3         0.650   0.833    1    -4.672   \n",
       "\n",
       "   mode  speechiness  acousticness  instrumentalness  liveness  valence  \\\n",
       "0     1       0.0583        0.1020          0.000000    0.0653    0.518   \n",
       "1     1       0.0373        0.0724          0.004210    0.3570    0.693   \n",
       "2     0       0.0742        0.0794          0.000023    0.1100    0.613   \n",
       "3     1       0.1020        0.0287          0.000009    0.2040    0.277   \n",
       "4     1       0.0359        0.0803          0.000000    0.0833    0.725   \n",
       "\n",
       "     tempo  duration_ms   age  \n",
       "0  122.036       194754  1661  \n",
       "1   99.972       162600  1479  \n",
       "2  124.008       176616  1640  \n",
       "3  121.956       169093  1626  \n",
       "4  123.976       189052  1762  "
      ]
     },
     "execution_count": 10,
     "metadata": {},
     "output_type": "execute_result"
    }
   ],
   "source": [
    "data.head()"
   ]
  },
  {
   "cell_type": "code",
   "execution_count": 11,
   "metadata": {},
   "outputs": [],
   "source": [
    "from sklearn.model_selection import train_test_split\n",
    "\n",
    "## Test data\n",
    "train, test = train_test_split(data, test_size=0.15, random_state=42)"
   ]
  },
  {
   "cell_type": "code",
   "execution_count": 12,
   "metadata": {},
   "outputs": [
    {
     "name": "stdout",
     "output_type": "stream",
     "text": [
      "track_id             False\n",
      "track_artist         False\n",
      "track_popularity     False\n",
      "track_album_id       False\n",
      "playlist_id          False\n",
      "playlist_genre       False\n",
      "playlist_subgenre    False\n",
      "danceability         False\n",
      "energy               False\n",
      "key                  False\n",
      "loudness             False\n",
      "mode                 False\n",
      "speechiness          False\n",
      "acousticness         False\n",
      "instrumentalness     False\n",
      "liveness             False\n",
      "valence              False\n",
      "tempo                False\n",
      "duration_ms          False\n",
      "age                  False\n",
      "dtype: bool\n",
      "track_id             False\n",
      "track_artist         False\n",
      "track_popularity     False\n",
      "track_album_id       False\n",
      "playlist_id          False\n",
      "playlist_genre       False\n",
      "playlist_subgenre    False\n",
      "danceability         False\n",
      "energy               False\n",
      "key                  False\n",
      "loudness             False\n",
      "mode                 False\n",
      "speechiness          False\n",
      "acousticness         False\n",
      "instrumentalness     False\n",
      "liveness             False\n",
      "valence              False\n",
      "tempo                False\n",
      "duration_ms          False\n",
      "age                  False\n",
      "dtype: bool\n"
     ]
    }
   ],
   "source": [
    "print(train.isna().any(axis=0))\n",
    "print(train.isnull().any(axis=0))"
   ]
  },
  {
   "cell_type": "code",
   "execution_count": 13,
   "metadata": {},
   "outputs": [
    {
     "name": "stdout",
     "output_type": "stream",
     "text": [
      "[]\n"
     ]
    }
   ],
   "source": [
    "train.drop_duplicates(keep=False, inplace=True)\n",
    "train.dropna()\n",
    "print(train.columns[train.isna().any()].tolist())"
   ]
  },
  {
   "cell_type": "code",
   "execution_count": 14,
   "metadata": {},
   "outputs": [
    {
     "name": "stdout",
     "output_type": "stream",
     "text": [
      "Number of 0 values in track_popularity:  2311\n"
     ]
    },
    {
     "data": {
      "image/png": "[encoded data removed]",
      "text/plain": [
       "<Figure size 640x480 with 1 Axes>"
      ]
     },
     "metadata": {},
     "output_type": "display_data"
    }
   ],
   "source": [
    "plt.hist(train[\"track_popularity\"], bins= 100)\n",
    "print(\"Number of 0 values in track_popularity: \", (train[\"track_popularity\"] == 0).sum())"
   ]
  },
  {
   "cell_type": "code",
   "execution_count": 15,
   "metadata": {},
   "outputs": [
    {
     "name": "stderr",
     "output_type": "stream",
     "text": [
      "/Users/chrisizeh/Documents/TU/2023W/ML/ML-NN-Parameter-Search/.venv/lib/python3.11/site-packages/pandas/core/arraylike.py:396: RuntimeWarning: invalid value encountered in log\n",
      "  result = getattr(ufunc, method)(*inputs, **kwargs)\n"
     ]
    },
    {
     "data": {
      "text/plain": [
       "(array([1., 0., 0., 0., 0., 1., 0., 0., 0., 0., 0., 0., 0., 0., 0., 0., 0.,\n",
       "        0., 0., 0., 0., 0., 0., 0., 0., 0., 0., 0., 0., 0., 0., 0., 0., 0.,\n",
       "        0., 0., 0., 0., 0., 0., 0., 1., 0., 0., 0., 0., 0., 0., 0., 0., 0.,\n",
       "        0., 1., 0., 0., 0., 0., 0., 0., 0., 0., 0., 0., 0., 0., 0., 0., 0.,\n",
       "        0., 0., 0., 0., 0., 0., 0., 0., 0., 0., 0., 0., 0., 0., 0., 0., 0.,\n",
       "        0., 0., 0., 0., 0., 0., 1., 0., 0., 0., 0., 0., 0., 0., 1.]),\n",
       " array([-1.19732826, -1.18292552, -1.16852277, -1.15412003, -1.13971728,\n",
       "        -1.12531454, -1.1109118 , -1.09650905, -1.08210631, -1.06770356,\n",
       "        -1.05330082, -1.03889807, -1.02449533, -1.01009258, -0.99568984,\n",
       "        -0.9812871 , -0.96688435, -0.95248161, -0.93807886, -0.92367612,\n",
       "        -0.90927337, -0.89487063, -0.88046788, -0.86606514, -0.8516624 ,\n",
       "        -0.83725965, -0.82285691, -0.80845416, -0.79405142, -0.77964867,\n",
       "        -0.76524593, -0.75084319, -0.73644044, -0.7220377 , -0.70763495,\n",
       "        -0.69323221, -0.67882946, -0.66442672, -0.65002397, -0.63562123,\n",
       "        -0.62121849, -0.60681574, -0.592413  , -0.57801025, -0.56360751,\n",
       "        -0.54920476, -0.53480202, -0.52039927, -0.50599653, -0.49159379,\n",
       "        -0.47719104, -0.4627883 , -0.44838555, -0.43398281, -0.41958006,\n",
       "        -0.40517732, -0.39077458, -0.37637183, -0.36196909, -0.34756634,\n",
       "        -0.3331636 , -0.31876085, -0.30435811, -0.28995536, -0.27555262,\n",
       "        -0.26114988, -0.24674713, -0.23234439, -0.21794164, -0.2035389 ,\n",
       "        -0.18913615, -0.17473341, -0.16033066, -0.14592792, -0.13152518,\n",
       "        -0.11712243, -0.10271969, -0.08831694, -0.0739142 , -0.05951145,\n",
       "        -0.04510871, -0.03070597, -0.01630322, -0.00190048,  0.01250227,\n",
       "         0.02690501,  0.04130776,  0.0557105 ,  0.07011325,  0.08451599,\n",
       "         0.09891873,  0.11332148,  0.12772422,  0.14212697,  0.15652971,\n",
       "         0.17093246,  0.1853352 ,  0.19973795,  0.21414069,  0.22854343,\n",
       "         0.24294618]),\n",
       " <BarContainer object of 100 artists>)"
      ]
     },
     "execution_count": 15,
     "metadata": {},
     "output_type": "execute_result"
    },
    {
     "data": {
      "image/png": "[encoded data removed]",
      "text/plain": [
       "<Figure size 640x480 with 1 Axes>"
      ]
     },
     "metadata": {},
     "output_type": "display_data"
    }
   ],
   "source": [
    "even = np.log(train[\"loudness\"])\n",
    "plt.hist(even, bins= 100)\n",
    "#log transform makes no sense, because the data is not that skew"
   ]
  },
  {
   "cell_type": "code",
   "execution_count": 16,
   "metadata": {},
   "outputs": [
    {
     "data": {
      "image/png": "[encoded data removed]",
      "text/plain": [
       "<Figure size 640x480 with 8 Axes>"
      ]
     },
     "metadata": {},
     "output_type": "display_data"
    }
   ],
   "source": [
    "train[\"track_popularity\"].max()\n",
    "fig = plt.figure()\n",
    "fig.subplots_adjust(hspace=0.9, wspace=0.9)\n",
    "ax = fig.add_subplot(2, 4, 1)\n",
    "sns.histplot(train[\"track_popularity\"], bins = 100, ax=ax)\n",
    "ax = fig.add_subplot(2, 4, 2)\n",
    "sns.histplot(train[\"danceability\"], ax=ax)\n",
    "ax = fig.add_subplot(2, 4, 3)\n",
    "sns.histplot(train[\"energy\"],ax=ax)\n",
    "ax = fig.add_subplot(2, 4, 4)\n",
    "sns.histplot(train[\"instrumentalness\"],ax=ax)\n",
    "ax = fig.add_subplot(2, 4, 5)\n",
    "sns.histplot(train[\"loudness\"], bins = 100,ax=ax)\n",
    "ax = fig.add_subplot(2, 4, 6)\n",
    "sns.histplot(train[\"acousticness\"], ax=ax)\n",
    "ax = fig.add_subplot(2, 4, 7)\n",
    "sns.histplot(train[\"speechiness\"],ax=ax)\n",
    "ax = fig.add_subplot(2, 4, 8)\n",
    "sns.histplot(train[\"liveness\"],ax=ax)\n",
    "plt.show()"
   ]
  },
  {
   "cell_type": "code",
   "execution_count": 17,
   "metadata": {},
   "outputs": [
    {
     "name": "stderr",
     "output_type": "stream",
     "text": [
      "/Users/chrisizeh/Documents/TU/2023W/ML/ML-NN-Parameter-Search/.venv/lib/python3.11/site-packages/pandas/core/arraylike.py:396: RuntimeWarning: invalid value encountered in log1p\n",
      "  result = getattr(ufunc, method)(*inputs, **kwargs)\n"
     ]
    },
    {
     "data": {
      "text/plain": [
       "9688"
      ]
     },
     "execution_count": 17,
     "metadata": {},
     "output_type": "execute_result"
    },
    {
     "data": {
      "image/png": "[encoded data removed]",
      "text/plain": [
       "<Figure size 640x480 with 1 Axes>"
      ]
     },
     "metadata": {},
     "output_type": "display_data"
    }
   ],
   "source": [
    "plt.hist(np.log1p(train['loudness']), bins= 300)\n",
    "train[\"loudness\"].nunique()\n"
   ]
  },
  {
   "cell_type": "code",
   "execution_count": 18,
   "metadata": {},
   "outputs": [],
   "source": [
    "\n",
    "from sklearn.preprocessing import MinMaxScaler\n",
    "\n",
    "sklearn.set_config(transform_output=\"pandas\")\n",
    "scaler = MinMaxScaler(feature_range=(0,1))\n",
    "train = scaler.fit_transform(train)\n",
    "test = scaler.fit_transform(test)\n",
    "\n",
    "## Validation data\n",
    "labels = train['danceability']\n",
    "train = train.drop(columns='danceability', axis=1)\n",
    "X_train, X_valid, y_train, y_valid = train_test_split(train, labels, test_size=0.15, random_state=42)\n"
   ]
  },
  {
   "cell_type": "markdown",
   "metadata": {},
   "source": [
    "Model"
   ]
  },
  {
   "cell_type": "code",
   "execution_count": 19,
   "metadata": {},
   "outputs": [],
   "source": [
    "import torch\n",
    "from torch import nn\n",
    "import torch.optim as optim\n",
    "from torch.utils.data import DataLoader, TensorDataset\n",
    "\n",
    "# Convert to 2D PyTorch tensors\n",
    "def get_device():\n",
    "    if torch.cuda.is_available():\n",
    "        device = torch.device('cuda:0')\n",
    "    else:\n",
    "        device = torch.device('cpu')\n",
    "    #print(\"using \", device)\n",
    "    return device\n",
    "\n",
    "\n",
    "device = get_device()\n",
    "\n",
    "# convert a df to tensor to be used in pytorch\n",
    "def dataframe_to_tensor(df):\n",
    "    return torch.from_numpy(df.values).float().to(device)\n",
    "\n",
    "X_train = dataframe_to_tensor(X_train)\n",
    "y_train = dataframe_to_tensor(y_train)\n",
    "X_valid = dataframe_to_tensor(X_valid)\n",
    "y_valid = dataframe_to_tensor(y_valid)\n",
    "\n",
    "\n",
    "y_test = test[\"danceability\"]\n",
    "X_test = test.drop(columns=\"danceability\")\n",
    "X_test = dataframe_to_tensor(X_test)\n",
    "y_test = dataframe_to_tensor(y_test)\n",
    "\n",
    "\n",
    "train_ds = TensorDataset(X_train, y_train)\n",
    "valid_ds = TensorDataset(X_valid, y_valid)\n",
    "test_ds = TensorDataset(X_test, y_test)"
   ]
  },
  {
   "cell_type": "code",
   "execution_count": 20,
   "metadata": {},
   "outputs": [
    {
     "name": "stdout",
     "output_type": "stream",
     "text": [
      "Shape of X [N, C, H, W]: torch.Size([64, 19])\n",
      "Shape of y: torch.Size([64]) torch.float32\n"
     ]
    }
   ],
   "source": [
    "batch_size = 64\n",
    "\n",
    "# Create data loaders.\n",
    "train_dataloader = DataLoader(train_ds, batch_size=batch_size)\n",
    "valid_dataloader = DataLoader(valid_ds, batch_size=batch_size)\n",
    "test_dataloader = DataLoader(test_ds, batch_size=batch_size)\n",
    "\n",
    "for XX, yy in train_dataloader:\n",
    "    print(f\"Shape of X [N, C, H, W]: {XX.shape}\")\n",
    "    print(f\"Shape of y: {yy.shape} {yy.dtype}\")\n",
    "    break"
   ]
  },
  {
   "cell_type": "code",
   "execution_count": 21,
   "metadata": {},
   "outputs": [
    {
     "name": "stdout",
     "output_type": "stream",
     "text": [
      "NeuralNetwork(\n",
      "  (flatten): Flatten(start_dim=1, end_dim=-1)\n",
      "  (linear_relu_stack): Sequential(\n",
      "    (0): Linear(in_features=19, out_features=50, bias=True)\n",
      "    (1): ReLU()\n",
      "    (2): Linear(in_features=50, out_features=50, bias=True)\n",
      "    (3): ReLU()\n",
      "    (4): Linear(in_features=50, out_features=1, bias=True)\n",
      "  )\n",
      ")\n"
     ]
    }
   ],
   "source": [
    "class NeuralNetwork(nn.Module):\n",
    "    def __init__(self):\n",
    "        super().__init__()\n",
    "        self.flatten = nn.Flatten()\n",
    "        self.linear_relu_stack = nn.Sequential(\n",
    "            nn.Linear(19, 50),\n",
    "            nn.ReLU(),\n",
    "            nn.Linear(50, 50),\n",
    "            nn.ReLU(),\n",
    "            nn.Linear(50, 1)\n",
    "        )\n",
    "\n",
    "    def forward(self, x):\n",
    "        x = self.flatten(x)\n",
    "        logits = self.linear_relu_stack(x)\n",
    "        return logits\n",
    "\n",
    "model = NeuralNetwork().to(device)\n",
    "print(model)"
   ]
  },
  {
   "cell_type": "code",
   "execution_count": 22,
   "metadata": {},
   "outputs": [],
   "source": [
    "#loss_fn = nn.CrossEntropyLoss()\n",
    "loss_fn = torch.nn.MSELoss()\n",
    "optimizer = torch.optim.SGD(model.parameters(), lr=0.1)"
   ]
  },
  {
   "cell_type": "code",
   "execution_count": 23,
   "metadata": {},
   "outputs": [],
   "source": [
    "def train(dataloader, model, loss_fn, optimizer):\n",
    "    size = len(dataloader.dataset)\n",
    "    model.train()\n",
    "    for batch, (XX, yy) in enumerate(dataloader):\n",
    "        XX = XX.to(device).float()\n",
    "        yy = yy.to(device).reshape((yy.shape[0], 1))\n",
    "\n",
    "        # Compute prediction error\n",
    "        pred = model(XX)\n",
    "        loss = loss_fn(pred, yy)\n",
    "\n",
    "        # Backpropagation\n",
    "        loss.backward()\n",
    "        optimizer.step()\n",
    "        optimizer.zero_grad()\n",
    "\n",
    "        if batch % 100 == 0:\n",
    "            loss, current = loss.item(), (batch + 1) * len(XX)\n",
    "            print(f\"loss: {loss:>7f}  [{current:>5d}/{size:>5d}]\")"
   ]
  },
  {
   "cell_type": "code",
   "execution_count": 24,
   "metadata": {},
   "outputs": [],
   "source": [
    "def test(dataloader, model, loss_fn):\n",
    "    size = len(dataloader.dataset)\n",
    "    num_batches = len(dataloader)\n",
    "    model.eval()\n",
    "    test_loss, correct = 0, 0\n",
    "    with torch.no_grad():\n",
    "        for XX, yy in dataloader:\n",
    "            #XX, yy = XX.to(device), yy.to(device)\n",
    "            XX = XX.to(device).float()\n",
    "            yy = yy.to(device).reshape((yy.shape[0], 1))\n",
    "            \n",
    "            pred = model(XX)\n",
    "            test_loss += loss_fn(pred, yy).item()\n",
    "            \n",
    "            #correct if the difference is < 10%\n",
    "            abs_delta = np.abs(pred - yy)\n",
    "            max_allow = np.abs(0.10 * yy)\n",
    "            correct += (abs_delta < max_allow).sum().item()\n",
    "    test_loss /= num_batches\n",
    "    correct /= size\n",
    "    print(f\"Test Error: \\n Accuracy: {(100*correct):>0.1f}%, Avg loss: {test_loss:>8f} \\n\")"
   ]
  },
  {
   "cell_type": "code",
   "execution_count": 25,
   "metadata": {},
   "outputs": [
    {
     "name": "stdout",
     "output_type": "stream",
     "text": [
      "Epoch 1\n",
      "-------------------------------\n",
      "loss: 0.486780  [   64/23721]\n",
      "loss: 0.021797  [ 6464/23721]\n",
      "loss: 0.022111  [12864/23721]\n",
      "loss: 0.022681  [19264/23721]\n",
      "Test Error: \n",
      " Accuracy: 33.3%, Avg loss: 0.019733 \n",
      "\n",
      "Epoch 2\n",
      "-------------------------------\n",
      "loss: 0.013504  [   64/23721]\n",
      "loss: 0.017661  [ 6464/23721]\n",
      "loss: 0.020173  [12864/23721]\n",
      "loss: 0.021856  [19264/23721]\n",
      "Test Error: \n",
      " Accuracy: 33.8%, Avg loss: 0.019079 \n",
      "\n",
      "Epoch 3\n",
      "-------------------------------\n",
      "loss: 0.012827  [   64/23721]\n",
      "loss: 0.015869  [ 6464/23721]\n",
      "loss: 0.020407  [12864/23721]\n",
      "loss: 0.021677  [19264/23721]\n",
      "Test Error: \n",
      " Accuracy: 34.1%, Avg loss: 0.018802 \n",
      "\n",
      "Epoch 4\n",
      "-------------------------------\n",
      "loss: 0.012851  [   64/23721]\n",
      "loss: 0.015224  [ 6464/23721]\n",
      "loss: 0.020503  [12864/23721]\n",
      "loss: 0.021499  [19264/23721]\n",
      "Test Error: \n",
      " Accuracy: 34.0%, Avg loss: 0.018651 \n",
      "\n",
      "Epoch 5\n",
      "-------------------------------\n",
      "loss: 0.012799  [   64/23721]\n",
      "loss: 0.014862  [ 6464/23721]\n",
      "loss: 0.020422  [12864/23721]\n",
      "loss: 0.021352  [19264/23721]\n",
      "Test Error: \n",
      " Accuracy: 34.3%, Avg loss: 0.018562 \n",
      "\n",
      "Epoch 6\n",
      "-------------------------------\n",
      "loss: 0.012683  [   64/23721]\n",
      "loss: 0.014701  [ 6464/23721]\n",
      "loss: 0.020396  [12864/23721]\n",
      "loss: 0.021202  [19264/23721]\n",
      "Test Error: \n",
      " Accuracy: 34.4%, Avg loss: 0.018516 \n",
      "\n",
      "Epoch 7\n",
      "-------------------------------\n",
      "loss: 0.012540  [   64/23721]\n",
      "loss: 0.014596  [ 6464/23721]\n",
      "loss: 0.020356  [12864/23721]\n",
      "loss: 0.021062  [19264/23721]\n",
      "Test Error: \n",
      " Accuracy: 34.6%, Avg loss: 0.018498 \n",
      "\n",
      "Epoch 8\n",
      "-------------------------------\n",
      "loss: 0.012398  [   64/23721]\n",
      "loss: 0.014549  [ 6464/23721]\n",
      "loss: 0.020220  [12864/23721]\n",
      "loss: 0.020884  [19264/23721]\n",
      "Test Error: \n",
      " Accuracy: 34.9%, Avg loss: 0.018410 \n",
      "\n",
      "Epoch 9\n",
      "-------------------------------\n",
      "loss: 0.012269  [   64/23721]\n",
      "loss: 0.014503  [ 6464/23721]\n",
      "loss: 0.020009  [12864/23721]\n",
      "loss: 0.020607  [19264/23721]\n",
      "Test Error: \n",
      " Accuracy: 34.8%, Avg loss: 0.018412 \n",
      "\n",
      "Epoch 10\n",
      "-------------------------------\n",
      "loss: 0.012136  [   64/23721]\n",
      "loss: 0.014419  [ 6464/23721]\n",
      "loss: 0.019916  [12864/23721]\n",
      "loss: 0.020354  [19264/23721]\n",
      "Test Error: \n",
      " Accuracy: 34.7%, Avg loss: 0.018428 \n",
      "\n",
      "Done!\n"
     ]
    }
   ],
   "source": [
    "epochs = 10\n",
    "for t in range(epochs):\n",
    "    print(f\"Epoch {t+1}\\n-------------------------------\")\n",
    "    train(train_dataloader, model, loss_fn, optimizer)\n",
    "    test(test_dataloader, model, loss_fn)\n",
    "print(\"Done!\")"
   ]
  },
  {
   "cell_type": "code",
   "execution_count": 26,
   "metadata": {},
   "outputs": [],
   "source": [
    "#TODO: evaluation metrics as RMSE, Rsquare..."
   ]
  },
  {
   "cell_type": "code",
   "execution_count": 27,
   "metadata": {},
   "outputs": [],
   "source": [
    "#TODO: cross validation"
   ]
  },
  {
   "cell_type": "markdown",
   "metadata": {},
   "source": [
    "Parametric NN"
   ]
  },
  {
   "cell_type": "code",
   "execution_count": 28,
   "metadata": {},
   "outputs": [],
   "source": [
    "%load_ext autoreload\n",
    "%autoreload 1\n",
    "import random"
   ]
  },
  {
   "cell_type": "code",
   "execution_count": 30,
   "metadata": {},
   "outputs": [],
   "source": [
    "def acc_func(loc_pred, loc_y):\n",
    "    abs_delta = np.abs(loc_pred - loc_y)\n",
    "    max_allow = np.abs(0.10 * loc_y)\n",
    "    return (abs_delta < max_allow).sum().item()"
   ]
  },
  {
   "cell_type": "code",
   "execution_count": 31,
   "metadata": {},
   "outputs": [],
   "source": [
    "import NNModel"
   ]
  },
  {
   "cell_type": "code",
   "execution_count": 32,
   "metadata": {},
   "outputs": [
    {
     "name": "stdout",
     "output_type": "stream",
     "text": [
      "Parameter Combination (0.1, 32) with keys ['learning_rate', 'batch_size']\n",
      " Accuracy: 32.8\n",
      "\n",
      "Parameter Combination (0.1, 64) with keys ['learning_rate', 'batch_size']\n",
      " Accuracy: 34.8\n",
      "\n",
      "Parameter Combination (0.1, 128) with keys ['learning_rate', 'batch_size']\n",
      " Accuracy: 0.0\n",
      "\n",
      "Parameter Combination (0.01, 32) with keys ['learning_rate', 'batch_size']\n",
      " Accuracy: 34.0\n",
      "\n",
      "Parameter Combination (0.01, 64) with keys ['learning_rate', 'batch_size']\n",
      " Accuracy: 32.5\n",
      "\n",
      "Parameter Combination (0.01, 128) with keys ['learning_rate', 'batch_size']\n",
      " Accuracy: 0.0\n",
      "\n",
      "Parameter Combination (0.05, 32) with keys ['learning_rate', 'batch_size']\n",
      " Accuracy: 32.0\n",
      "\n",
      "Parameter Combination (0.05, 64) with keys ['learning_rate', 'batch_size']\n",
      " Accuracy: 35.2\n",
      "\n",
      "Parameter Combination (0.05, 128) with keys ['learning_rate', 'batch_size']\n",
      " Accuracy: 34.7\n",
      "\n"
     ]
    },
    {
     "data": {
      "text/plain": [
       "((0.05, 64), 35.24873096446701)"
      ]
     },
     "execution_count": 32,
     "metadata": {},
     "output_type": "execute_result"
    }
   ],
   "source": [
    "layer = [len(X_train[0]), 50, 50, 1]\n",
    "nnmodel = NNModel.NNModel(layer, device, acc_func=acc_func, loss_func=nn.MSELoss, reshape=True)\n",
    "dict_param = {\"learning_rate\": [0.1, 0.01, 0.05], \"batch_size\": [32, 64, 128]}\n",
    "init_param = {\"learning_rate\": 0.01, \"batch_size\": 64}\n",
    "\n",
    "nnmodel.grid_search(dict_param, train_ds, test_ds, epochs=5)\n",
    "# nnmodel.local_search(init_param, train_ds, test_ds, epochs=1)"
   ]
  }
 ],
 "metadata": {
  "kernelspec": {
   "display_name": "Python 3",
   "language": "python",
   "name": "python3"
  },
  "language_info": {
   "codemirror_mode": {
    "name": "ipython",
    "version": 3
   },
   "file_extension": ".py",
   "mimetype": "text/x-python",
   "name": "python",
   "nbconvert_exporter": "python",
   "pygments_lexer": "ipython3",
   "version": "3.11.6"
  }
 },
 "nbformat": 4,
 "nbformat_minor": 2
}
